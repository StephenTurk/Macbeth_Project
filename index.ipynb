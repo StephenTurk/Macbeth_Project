{
 "cells": [
  {
   "cell_type": "markdown",
   "metadata": {},
   "source": [
    "# Project: Analyzing Macbeth\n",
    "\n",
    "## Introduction\n",
    "Now we're going to do some rudimentary analysis of Shakespeare's classic play: Macbeth! You will get practice working with lists and dictionaries, conditionals, visualizing data, and thinking analytically about data.\n",
    "\n",
    "## Objectives\n",
    "You will be able to:\n",
    "* Apply string methods to make changes to a string\n",
    "* Use a `for` loop to iterate over a collection\n",
    "* Assign values in a dictionary\n",
    "\n",
    "## Getting the Data\n",
    "Here we start by importing a Python package called `requests`. We'll use it to pull the transcript of Macbeth from the [Project Gutenberg](https://www.gutenberg.org/) website. We'll also preview a few details about what is now stored in the variable `macbeth`. As you can see, it's a string with 120,253 characters - the first 500 of which are printed below. "
   ]
  },
  {
   "cell_type": "code",
   "execution_count": 6,
   "metadata": {},
   "outputs": [
    {
     "name": "stdout",
     "output_type": "stream",
     "text": [
      "<class 'str'>\n",
      "120253\n",
      "0\n"
     ]
    }
   ],
   "source": [
    "import requests\n",
    "macbeth = requests.get('http://www.gutenberg.org/cache/epub/2264/pg2264.txt').text\n",
    "\n",
    "macbeth_play_only = macbeth[16648:]\n",
    "print(type(macbeth))\n",
    "print(len(macbeth))\n",
    "#print(macbeth[16648:20000])\n",
    "print(macbeth_play_only.count())"
   ]
  },
  {
   "cell_type": "markdown",
   "metadata": {},
   "source": [
    "## Your Task\n",
    "\n",
    "Your task is to create a bar graph of the 25 most common words in Shakespeare's Macbeth.  \n",
    "\n",
    "\n",
    "A common Python programming pattern to count objects, produce histograms, or update statistics is to make calls to a dictionary as you iterate through a list. For example, given a list of words, you can create a dictionary to store counts and then iterate through the list of words, checking how many times each word has appeared using your dictionary, and updating the dictionary count now that you've seen that word again. The `.get()` dictionary method is very useful in doing this. Read the docstring for the `.get()` method and use it along with the pseudocode below to create a bar graph of the 25 most common words from the transcript of Macbeth which has been loaded into the variable 'macbeth'. Be sure to include a title and appropriate labels for your graph.\n",
    "\n",
    "To get the 25 *most common* words, you will have to sort your counts. If you are not super sure how to do this, checkout out the [Sorting HOW TO](https://docs.python.org/3/howto/sorting.html) Python documentation. Part of being a data scientist is figuring out how to do tasks that you may not have done before. Remember, in these situations, Google is your friend!"
   ]
  },
  {
   "cell_type": "code",
   "execution_count": 60,
   "metadata": {},
   "outputs": [
    {
     "data": {
      "image/png": "[encoded data removed]",
      "text/plain": [
       "<Figure size 864x432 with 1 Axes>"
      ]
     },
     "metadata": {
      "needs_background": "light"
     },
     "output_type": "display_data"
    }
   ],
   "source": [
    "import numpy as np\n",
    "import matplotlib.pyplot as plt\n",
    "%matplotlib inline\n",
    "from collections import Counter\n",
    "macbeth_play_only = macbeth[16648:]\n",
    "\n",
    "words_of_macbeth = macbeth_play_only.split()\n",
    "macbeth_counter = Counter(words_of_macbeth)\n",
    "top_25 = macbeth_counter.most_common(25)\n",
    "top_25 \n",
    "dic_macbeth = dict(top_25)\n",
    "common_words = dic_macbeth.keys()\n",
    "use_number = dic_macbeth.values()\n",
    "\n",
    "plt.figure(figsize=(12,6))\n",
    "plt.bar(common_words, use_number)\n",
    "plt.xlabel('Most common words')\n",
    "plt.ylabel('Number of uses')\n",
    "plt.title(\"Most Common Words in Shakespeare's Macbeth\")\n",
    "plt.show()\n",
    "  \n",
    "# Your code here\n",
    "\n",
    "# Pseudo-code outline\n",
    "\n",
    "# Split the transcript into words\n",
    "# Create a dictionary\n",
    "# Iterate through the text of Macbeth\n",
    "# Update word counts\n",
    "# Sort words by counts in descending order\n",
    "# Create Bar Graph\n",
    "# Include descriptive titles and labels"
   ]
  },
  {
   "cell_type": "markdown",
   "metadata": {},
   "source": [
    "## Level Up (Optional)\n",
    "This project should take you about an hour and a half to complete. If you're done much more quickly than that and are not behind in the course, feel free to deepen your knowledge by completing any or all of the following tasks until you run out of time:\n",
    "* Create a list of top characters by mentions of their names \n",
    "* Split the text by which character is talking\n",
    "* Create subgraphs of the most common words by character\n",
    "* Reduce the string to the text of the play itself. (Remove any initial notes, forward, introduction, appendix, etc.)\n",
    "* Come up with some other fun analyses of the text!\n",
    "\n",
    "## Summary\n",
    "Congratulations! You've got some extra practice combining various data types into useful programming patterns and done an initial analysis of a classic text!"
   ]
  }
 ],
 "metadata": {
  "kernelspec": {
   "display_name": "Python 3",
   "language": "python",
   "name": "python3"
  },
  "language_info": {
   "codemirror_mode": {
    "name": "ipython",
    "version": 3
   },
   "file_extension": ".py",
   "mimetype": "text/x-python",
   "name": "python",
   "nbconvert_exporter": "python",
   "pygments_lexer": "ipython3",
   "version": "3.6.9"
  }
 },
 "nbformat": 4,
 "nbformat_minor": 2
}
